{
 "cells": [
  {
   "cell_type": "markdown",
   "metadata": {},
   "source": [
    "# Topographic VAE tutorial"
   ]
  },
  {
   "cell_type": "markdown",
   "metadata": {},
   "source": [
    "This notebook allows users to train models on both dummy data and the kinematic data used in [Blum et al 2022](https://www.biorxiv.org/content/10.1101/2021.12.10.472161v3) which can be downloaded [here](https://figshare.com/articles/dataset/Behavioural_kinematics_and_S1_neural_activity_datasets/17700944).\n",
    "\n",
    "### Import packages and set seed"
   ]
  },
  {
   "cell_type": "code",
   "execution_count": 1,
   "metadata": {},
   "outputs": [],
   "source": [
    "from tvae.models import BernoulliTopoVAE\n",
    "from tvae.utils import lateral_effect, mexican_hat, load_kinematic_data, plot_PD_map\n",
    "\n",
    "import h5py\n",
    "import torch\n",
    "import numpy as np\n",
    "import matplotlib.pyplot as plt\n",
    "from torch.utils.data import DataLoader\n",
    "from sklearn.linear_model import PoissonRegressor\n",
    "from sklearn.multioutput import MultiOutputRegressor\n",
    "\n",
    "# Set seed\n",
    "SEED = 2022\n",
    "torch.manual_seed(SEED);"
   ]
  },
  {
   "cell_type": "markdown",
   "metadata": {},
   "source": [
    "### Training & evaluating a model on dummy data\n",
    "\n",
    "Generate dummy data"
   ]
  },
  {
   "cell_type": "code",
   "execution_count": 2,
   "metadata": {},
   "outputs": [],
   "source": [
    "# Hyperparameters\n",
    "INPUT_SIZE = 9\n",
    "N_SAMPLES = 10000\n",
    "\n",
    "# Dataset of N dimensional gaussian noise\n",
    "data = torch.randn(size=(N_SAMPLES, INPUT_SIZE))\n",
    "\n",
    "# Move to GPU (remove this line if not using GPU for training)\n",
    "data = data.cuda()\n",
    "\n",
    "# Wrap data in dataloader object\n",
    "dataloader = DataLoader(data, batch_size=256, drop_last=True, shuffle=True) "
   ]
  },
  {
   "cell_type": "markdown",
   "metadata": {},
   "source": [
    "Initialise model"
   ]
  },
  {
   "cell_type": "code",
   "execution_count": 3,
   "metadata": {},
   "outputs": [
    {
     "data": {
      "text/plain": [
       "BernoulliTopoVAE(\n",
       "  (encoder): Sequential(\n",
       "    (0): Linear(in_features=9, out_features=500, bias=False)\n",
       "    (1): Tanh()\n",
       "    (2): Linear(in_features=500, out_features=400, bias=False)\n",
       "    (3): Sigmoid()\n",
       "  )\n",
       "  (decoder): Linear(in_features=400, out_features=9, bias=False)\n",
       ")"
      ]
     },
     "execution_count": 3,
     "metadata": {},
     "output_type": "execute_result"
    }
   ],
   "source": [
    "# Hyperparameters\n",
    "LATENT_SHAPE = [20,20] # Dimensions of 2D latent space \n",
    "LATENT_DIM = LATENT_SHAPE[0] * LATENT_SHAPE[1] # No. of neurons in 2D latent space\n",
    "SIGMA = 2 # Controls range of lateral effects\n",
    "N = 5 # Maximum allowed spike range of each neuron for a single input\n",
    "\n",
    "# Initialise Psi, which defines the desired pairwise interactions between neurons\n",
    "psi = lateral_effect(LATENT_SHAPE, SIGMA, mexican_hat)\n",
    "psi = torch.tensor(psi).float()\n",
    "\n",
    "# Initialise model\n",
    "model = BernoulliTopoVAE(INPUT_SIZE, LATENT_DIM, psi, n=N, device='cpu')\n",
    "\n",
    "# Move model compoinents to GPU (remove these lines if not using GPU for training)\n",
    "model.device = 'cuda:0'\n",
    "model.psi = model.psi.cuda()\n",
    "model.cuda()"
   ]
  },
  {
   "cell_type": "markdown",
   "metadata": {},
   "source": [
    "Train model"
   ]
  },
  {
   "cell_type": "code",
   "execution_count": 4,
   "metadata": {},
   "outputs": [
    {
     "name": "stdout",
     "output_type": "stream",
     "text": [
      "Epoch 25/500 | Loss : 0.029556375092420824\n",
      "Epoch 50/500 | Loss : 0.025001650819411643\n",
      "Epoch 75/500 | Loss : 0.023757823002644073\n",
      "Epoch 100/500 | Loss : 0.021816638035651963\n",
      "Epoch 125/500 | Loss : 0.021429323710692234\n",
      "Epoch 150/500 | Loss : 0.020265988814525116\n",
      "Epoch 175/500 | Loss : 0.01980882424574632\n",
      "Epoch 200/500 | Loss : 0.02008185922526396\n",
      "Epoch 225/500 | Loss : 0.019220192176409256\n",
      "Epoch 250/500 | Loss : 0.019466088463862736\n",
      "Epoch 275/500 | Loss : 0.01951506614494018\n",
      "Epoch 300/500 | Loss : 0.01914865891329753\n",
      "Epoch 325/500 | Loss : 0.018705880938050073\n",
      "Epoch 350/500 | Loss : 0.018493024106973257\n",
      "Epoch 375/500 | Loss : 0.01865703560029849\n",
      "Epoch 400/500 | Loss : 0.018447166452041037\n",
      "Epoch 425/500 | Loss : 0.019147888590127993\n",
      "Epoch 450/500 | Loss : 0.018754892098980073\n",
      "Epoch 475/500 | Loss : 0.018732253103875197\n",
      "Epoch 500/500 | Loss : 0.017632013521133326\n"
     ]
    }
   ],
   "source": [
    "# Training hyperparameters\n",
    "N_EPOCHS = 500\n",
    "LATERAL_WEIGHT = 1\n",
    "KL_WEIGHT = 0\n",
    "\n",
    "optimizer = torch.optim.Adam(model.parameters(), lr=1e-3)\n",
    "loss_fn = torch.nn.MSELoss()\n",
    "\n",
    "losses = {'total':[], 'reconstruction':[], 'lateral':[]}\n",
    "\n",
    "for epoch in range(N_EPOCHS):\n",
    "\n",
    "    total_losses, recon_losses, lateral_losses = [], [], []\n",
    "\n",
    "    for i_batch, x in enumerate(dataloader):\n",
    "\n",
    "        optimizer.zero_grad()\n",
    "\n",
    "        xhat, z, pi, p, inp = model.forward(x)\n",
    "\n",
    "        reconstruction_loss = loss_fn(x.cpu(), xhat.cpu())\n",
    "        lateral_loss = model.lateral_loss(p)\n",
    "        KL_loss = model.KL_divergence(pi)\n",
    "\n",
    "        loss = reconstruction_loss + LATERAL_WEIGHT * lateral_loss + KL_WEIGHT * KL_loss\n",
    "        loss.backward()\n",
    "\n",
    "        optimizer.step()\n",
    "\n",
    "        total_losses.append(loss.detach().item())\n",
    "        recon_losses.append(reconstruction_loss.detach().item())\n",
    "        lateral_losses.append(lateral_loss.detach().item())\n",
    "    \n",
    "    losses['total'].append(np.mean(total_losses))\n",
    "    losses['reconstruction'].append(np.mean(recon_losses))\n",
    "    losses['lateral'].append(np.mean(lateral_losses))\n",
    "\n",
    "    if (epoch+1) % 25 == 0:\n",
    "        print(f'Epoch {epoch+1}/{N_EPOCHS} | Loss : {np.mean(total_losses)}')\n",
    "\n"
   ]
  },
  {
   "cell_type": "markdown",
   "metadata": {},
   "source": [
    "Plot loss curves"
   ]
  },
  {
   "cell_type": "code",
   "execution_count": 5,
   "metadata": {},
   "outputs": [
    {
     "data": {
      "image/png": "[encoded data removed]",
      "text/plain": [
       "<Figure size 864x144 with 3 Axes>"
      ]
     },
     "metadata": {
      "needs_background": "light"
     },
     "output_type": "display_data"
    }
   ],
   "source": [
    "fig, axs = plt.subplots(1, 3, figsize=(12,2))\n",
    "\n",
    "for i, key in enumerate(losses.keys()):\n",
    "    axs[i].plot(losses[key][10:])\n",
    "    axs[i].set_title(key)"
   ]
  },
  {
   "cell_type": "markdown",
   "metadata": {},
   "source": [
    "Move model to CPU"
   ]
  },
  {
   "cell_type": "code",
   "execution_count": 6,
   "metadata": {},
   "outputs": [],
   "source": [
    "# Model to CPU\n",
    "model.cpu()\n",
    "model.device = 'cpu'\n",
    "model.psi = model.psi.cpu()\n",
    "\n",
    "# Data to CPU\n",
    "data = data.cpu()"
   ]
  },
  {
   "cell_type": "markdown",
   "metadata": {},
   "source": [
    "Generate reconstructions and latent activity for the data"
   ]
  },
  {
   "cell_type": "code",
   "execution_count": 7,
   "metadata": {},
   "outputs": [],
   "source": [
    "# Switch to non-differentiable spike counts samples (gives discrete spikes)\n",
    "model.round_counts(True)\n",
    "\n",
    "# Run inference\n",
    "with torch.no_grad():\n",
    "    xhat, z, pi, p, x = model.forward(data)"
   ]
  },
  {
   "cell_type": "markdown",
   "metadata": {},
   "source": [
    "Plot reconstruction quality and activity for random samples"
   ]
  },
  {
   "cell_type": "code",
   "execution_count": 8,
   "metadata": {},
   "outputs": [
    {
     "data": {
      "image/png": "[encoded data removed]",
      "text/plain": [
       "<Figure size 1440x360 with 10 Axes>"
      ]
     },
     "metadata": {
      "needs_background": "light"
     },
     "output_type": "display_data"
    }
   ],
   "source": [
    "fig, axs = plt.subplots(2,5, figsize=(20,5), gridspec_kw={'height_ratios':[1,3]})\n",
    "\n",
    "idxs = np.random.choice(10000, 5, replace=False)\n",
    "\n",
    "for i, idx in enumerate(idxs):\n",
    "    axs[0,i].bar(range(9), data[idx,:], color='gray', alpha=0.5)\n",
    "    axs[0,i].bar(range(9), xhat[idx,:], color='red', alpha=0.5)\n",
    "\n",
    "for i, idx in enumerate(idxs):\n",
    "    axs[1,i].imshow(z[idx,:].reshape(*LATENT_SHAPE))"
   ]
  },
  {
   "cell_type": "markdown",
   "metadata": {},
   "source": [
    "### Training & evaluating neuron tuning in a model trained on kinematic data\n",
    "\n",
    "Load natural and planar reaching kinematic data"
   ]
  },
  {
   "cell_type": "code",
   "execution_count": 9,
   "metadata": {},
   "outputs": [],
   "source": [
    "# Hyperparameters\n",
    "BATCH_SIZE = 400\n",
    "\n",
    "# Load data\n",
    "natural_data, planar_data = load_kinematic_data('data/kinematic/')\n",
    "\n",
    "# Move to GPU (remove this line if not using GPU for training)\n",
    "data = natural_data.cuda()\n",
    "\n",
    "# Wrap data in dataloader object\n",
    "dataloader = DataLoader(data, batch_size=BATCH_SIZE, drop_last=True)"
   ]
  },
  {
   "cell_type": "markdown",
   "metadata": {},
   "source": [
    "Initialise model"
   ]
  },
  {
   "cell_type": "code",
   "execution_count": 10,
   "metadata": {},
   "outputs": [
    {
     "data": {
      "text/plain": [
       "BernoulliTopoVAE(\n",
       "  (encoder): Sequential(\n",
       "    (0): Linear(in_features=9, out_features=500, bias=False)\n",
       "    (1): Tanh()\n",
       "    (2): Linear(in_features=500, out_features=6400, bias=False)\n",
       "    (3): Sigmoid()\n",
       "  )\n",
       "  (decoder): Linear(in_features=6400, out_features=9, bias=False)\n",
       ")"
      ]
     },
     "execution_count": 10,
     "metadata": {},
     "output_type": "execute_result"
    }
   ],
   "source": [
    "# Hyperparameters\n",
    "LATENT_SHAPE = [80,80] # Dimensions of 2D latent space \n",
    "LATENT_DIM = LATENT_SHAPE[0] * LATENT_SHAPE[1] # No. of neurons in 2D latent space\n",
    "SIGMA = 2 # Controls range of lateral effects\n",
    "N = 1 # Maximum allowed spike range of each neuron for a single input\n",
    "\n",
    "# Initialise Psi, which defines the desired pairwise interactions between neurons\n",
    "psi = lateral_effect(LATENT_SHAPE, SIGMA, mexican_hat)\n",
    "psi = torch.tensor(psi).float()\n",
    "\n",
    "# Initialise model\n",
    "model = BernoulliTopoVAE(data.shape[1], LATENT_DIM, psi, n=N, device='cpu')\n",
    "\n",
    "# Move model compoinents to GPU (remove these lines if not using GPU for training)\n",
    "model.device = 'cuda:0'\n",
    "model.psi = model.psi.cuda()\n",
    "model.cuda()"
   ]
  },
  {
   "cell_type": "markdown",
   "metadata": {},
   "source": [
    "Train model"
   ]
  },
  {
   "cell_type": "code",
   "execution_count": 11,
   "metadata": {},
   "outputs": [
    {
     "name": "stdout",
     "output_type": "stream",
     "text": [
      "Epoch 25/100 | Loss : 0.024663690477609634\n",
      "Epoch 50/100 | Loss : 0.023961703509612138\n",
      "Epoch 75/100 | Loss : 0.022718328159562377\n",
      "Epoch 100/100 | Loss : 0.017981044081754462\n"
     ]
    }
   ],
   "source": [
    "# Training hyperparameters\n",
    "N_EPOCHS = 100\n",
    "LATERAL_WEIGHT = 20\n",
    "KL_WEIGHT = 0\n",
    "\n",
    "optimizer = torch.optim.Adam(model.parameters(), lr=1e-3)\n",
    "loss_fn = torch.nn.MSELoss()\n",
    "\n",
    "losses = {'total':[], 'reconstruction':[], 'lateral':[]}\n",
    "\n",
    "for epoch in range(N_EPOCHS):\n",
    "\n",
    "    total_losses, recon_losses, lateral_losses = [], [], []\n",
    "\n",
    "    for i_batch, x in enumerate(dataloader):\n",
    "\n",
    "        optimizer.zero_grad()\n",
    "\n",
    "        xhat, z, pi, p, inp = model.forward(x)\n",
    "\n",
    "        reconstruction_loss = loss_fn(x.cpu(), xhat.cpu())\n",
    "        lateral_loss = model.lateral_loss(p)\n",
    "        KL_loss = model.KL_divergence(pi)\n",
    "\n",
    "        loss = reconstruction_loss + LATERAL_WEIGHT * lateral_loss + KL_WEIGHT * KL_loss\n",
    "        loss.backward()\n",
    "\n",
    "        optimizer.step()\n",
    "\n",
    "        total_losses.append(loss.detach().item())\n",
    "        recon_losses.append(reconstruction_loss.detach().item())\n",
    "        lateral_losses.append(lateral_loss.detach().item())\n",
    "    \n",
    "    losses['total'].append(np.mean(total_losses))\n",
    "    losses['reconstruction'].append(np.mean(recon_losses))\n",
    "    losses['lateral'].append(np.mean(lateral_losses))\n",
    "\n",
    "    if (epoch+1) % 25 == 0:\n",
    "        print(f'Epoch {epoch+1}/{N_EPOCHS} | Loss : {np.mean(total_losses)}')\n",
    "\n"
   ]
  },
  {
   "cell_type": "markdown",
   "metadata": {},
   "source": [
    "Plot loss curves"
   ]
  },
  {
   "cell_type": "code",
   "execution_count": 12,
   "metadata": {},
   "outputs": [
    {
     "data": {
      "image/png": "[encoded data removed]",
      "text/plain": [
       "<Figure size 864x144 with 3 Axes>"
      ]
     },
     "metadata": {
      "needs_background": "light"
     },
     "output_type": "display_data"
    }
   ],
   "source": [
    "fig, axs = plt.subplots(1, 3, figsize=(12,2))\n",
    "\n",
    "for i, key in enumerate(losses.keys()):\n",
    "    axs[i].plot(losses[key][10:])\n",
    "    axs[i].set_title(key)"
   ]
  },
  {
   "cell_type": "markdown",
   "metadata": {},
   "source": [
    "Move model to CPU"
   ]
  },
  {
   "cell_type": "code",
   "execution_count": 13,
   "metadata": {},
   "outputs": [],
   "source": [
    "# Model to CPU\n",
    "model.cpu()\n",
    "model.device = 'cpu'\n",
    "model.psi = model.psi.cpu()\n",
    "\n",
    "# Data to CPU\n",
    "data = data.cpu()"
   ]
  },
  {
   "cell_type": "markdown",
   "metadata": {},
   "source": [
    "Generate latent activity for planar reaching"
   ]
  },
  {
   "cell_type": "code",
   "execution_count": 14,
   "metadata": {},
   "outputs": [],
   "source": [
    "# Switch to non-differentiable spike counts samples (gives discrete spikes)\n",
    "model.round_counts(True)\n",
    "\n",
    "# Make dataloader object for planar reaching data\n",
    "dataloader = DataLoader(planar_data, 1000)\n",
    "\n",
    "# Run inference on planar kinematic data\n",
    "with torch.no_grad():\n",
    "    latent_activity = torch.vstack(\n",
    "        [model.forward(batch)[1].squeeze().cpu() for batch in dataloader]\n",
    "    )\n"
   ]
  },
  {
   "cell_type": "markdown",
   "metadata": {},
   "source": [
    "Calculate and plot preferred directions of neurons in the latent space"
   ]
  },
  {
   "cell_type": "code",
   "execution_count": 15,
   "metadata": {},
   "outputs": [
    {
     "data": {
      "image/png": "[encoded data removed]",
      "text/plain": [
       "<Figure size 576x576 with 2 Axes>"
      ]
     },
     "metadata": {
      "needs_background": "light"
     },
     "output_type": "display_data"
    }
   ],
   "source": [
    "# PD calculation function\n",
    "get_PD = (\n",
    "    lambda beta: (np.arctan2(beta[1], beta[0]) % (2 * np.pi)) * 180 / np.pi\n",
    ") \n",
    "\n",
    "# Adjust angle bounds to [0,360]\n",
    "correct_angle = lambda angle: angle if angle > 0 else 360 + angle\n",
    "\n",
    "# Load and filter endpoint data from planar reaching data\n",
    "with h5py.File(\"data/kinematic/planar/planar_data.h5\", \"r\") as file:\n",
    "    endpoint_data = file[\"endvelocity\"][:]\n",
    "    centre_out_idxs = np.hstack(\n",
    "        [range(1000, 11000), range(16000, 21000), range(26000, 27000)]\n",
    "    )\n",
    "    endpoint_data = endpoint_data[centre_out_idxs, :]\n",
    "\n",
    "# Train Poisson GLM mapping endpoint data to latent activity\n",
    "model_glm = MultiOutputRegressor(\n",
    "    PoissonRegressor(fit_intercept=False), n_jobs=-1\n",
    ").fit(endpoint_data, latent_activity)\n",
    "\n",
    "# Calculate preferred directions for each neuron in the model\n",
    "PDs = [get_PD(model_glm.estimators_[i].coef_) for i in range(latent_activity.shape[1])] \n",
    "\n",
    "# Plot map of preferred directions across the latent space \n",
    "plot_PD_map(PDs)"
   ]
  }
 ],
 "metadata": {
  "kernelspec": {
   "display_name": "topo_vae_new",
   "language": "python",
   "name": "topo_vae_new"
  },
  "language_info": {
   "codemirror_mode": {
    "name": "ipython",
    "version": 3
   },
   "file_extension": ".py",
   "mimetype": "text/x-python",
   "name": "python",
   "nbconvert_exporter": "python",
   "pygments_lexer": "ipython3",
   "version": "3.8.12"
  },
  "orig_nbformat": 4,
  "vscode": {
   "interpreter": {
    "hash": "def32bd5e4b610dc37c88bd66dabc927ff30deffbd68d6f9d3e760c589c20636"
   }
  }
 },
 "nbformat": 4,
 "nbformat_minor": 2
}
